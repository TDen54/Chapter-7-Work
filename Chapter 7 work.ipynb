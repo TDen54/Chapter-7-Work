{
 "cells": [
  {
   "cell_type": "markdown",
   "id": "9e7d7435",
   "metadata": {},
   "source": [
    "#Chapter 7 Questions"
   ]
  },
  {
   "cell_type": "markdown",
   "id": "dff2e76b",
   "metadata": {},
   "source": [
    "##Algorithm Workbench Question 1"
   ]
  },
  {
   "cell_type": "code",
   "execution_count": 1,
   "id": "84669c56",
   "metadata": {},
   "outputs": [
    {
     "name": "stdout",
     "output_type": "stream",
     "text": [
      "List of Scientists:\n",
      "Einstein\n",
      "Newton\n",
      "Copernicus\n",
      "Kepler\n"
     ]
    }
   ],
   "source": [
    "def main():\n",
    "    scientists = ['Einstein', 'Newton', 'Copernicus', 'Kepler']\n",
    "    print(\"List of Scientists:\")\n",
    "    for scientist in scientists:\n",
    "        print(scientist)\n",
    "\n",
    "if __name__ == \"__main__\":\n",
    "    main()"
   ]
  },
  {
   "cell_type": "markdown",
   "id": "f70f1894",
   "metadata": {},
   "source": [
    "I created the main function to encapsulate the code that creates a list of scientists' names. Inside the function, I initialized the scientists list with the specified strings. Then, I used a for loop to iterate through the list and print each scientist's name. The _name_== \"_main_\": condition ensures that the main function is executed when the script is run directly."
   ]
  },
  {
   "cell_type": "markdown",
   "id": "49a8f248",
   "metadata": {},
   "source": [
    "##Question 5"
   ]
  },
  {
   "cell_type": "code",
   "execution_count": 3,
   "id": "f09e854a",
   "metadata": {},
   "outputs": [
    {
     "name": "stdout",
     "output_type": "stream",
     "text": [
      "Total of the values in the list: 15\n"
     ]
    }
   ],
   "source": [
    "def calculate_total(integer_list):\n",
    "    total = 0\n",
    "    for num in integer_list:\n",
    "        total += num\n",
    "    return total\n",
    "\n",
    "def main():\n",
    "    # list of integers\n",
    "    my_list = [1, 2, 3, 4, 5]\n",
    "\n",
    "    # the total using the calculate_total function\n",
    "    total = calculate_total(my_list)\n",
    "\n",
    "    print(f'Total of the values in the list: {total}')\n",
    "\n",
    "if __name__ == \"__main__\":\n",
    "    main()\n"
   ]
  },
  {
   "cell_type": "markdown",
   "id": "c307dcd6",
   "metadata": {},
   "source": [
    "I created the calculate_total function to calculate the sum of integers in a given list. Inside the function, I initialized a total variable to zero and used a for loop to iterate through the list, adding each element to the total one by one. Finally, the function returns the total as the result. In the main function, I provided an example list, called calculate_total with that list, and printed the result to demonstrate how the function works."
   ]
  },
  {
   "cell_type": "markdown",
   "id": "c03e1265",
   "metadata": {},
   "source": [
    "#Programming Exercises"
   ]
  },
  {
   "cell_type": "markdown",
   "id": "ba712c0e",
   "metadata": {},
   "source": [
    "##Question 1"
   ]
  },
  {
   "cell_type": "code",
   "execution_count": 4,
   "id": "fcdc88c7",
   "metadata": {},
   "outputs": [
    {
     "name": "stdout",
     "output_type": "stream",
     "text": [
      "Enter sales for Monday: $215\n",
      "Enter sales for Tuesday: $194\n",
      "Enter sales for Wednesday: $347\n",
      "Enter sales for Thursday: $102\n",
      "Enter sales for Friday: $410\n",
      "Enter sales for Saturday: $220\n",
      "Enter sales for Sunday: $92\n",
      "Total sales for the week: $1580.00\n"
     ]
    }
   ],
   "source": [
    "def main():\n",
    "    # empty list to store daily sales\n",
    "    daily_sales = []\n",
    "\n",
    "    # enter sales for each day of the week\n",
    "    days_of_week = ['Monday', 'Tuesday', 'Wednesday', 'Thursday', 'Friday', 'Saturday', 'Sunday']\n",
    "    for day in days_of_week:\n",
    "        sales = float(input(f\"Enter sales for {day}: $\"))\n",
    "        daily_sales.append(sales)\n",
    "\n",
    "    # the total sales for the week using a loop\n",
    "    total_sales = sum(daily_sales)\n",
    "\n",
    "    # the total sales for the week\n",
    "    print(f\"Total sales for the week: ${total_sales:.2f}\")\n",
    "\n",
    "if __name__ == \"__main__\":\n",
    "    main()"
   ]
  },
  {
   "cell_type": "markdown",
   "id": "3f377a79",
   "metadata": {},
   "source": [
    "I created the main function to design a program that tracks a store's sales for each day of the week. Inside the function, I initialized an empty list called daily_sales to store the daily sales amounts. I used a loop to iterate through the days of the week, prompting me to input sales for each day and appending those values to the daily_sales list. After the loop, I calculated the total sales for the week using the sum() function and displayed the result. This structure organizes the code for interaction and calculation within the main function for clarity and maintainability."
   ]
  },
  {
   "cell_type": "markdown",
   "id": "d387b002",
   "metadata": {},
   "source": [
    "##Question 14"
   ]
  },
  {
   "cell_type": "code",
   "execution_count": 12,
   "id": "b3a4ab8d",
   "metadata": {},
   "outputs": [
    {
     "data": {
      "image/png": "[encoded data removed]",
      "text/plain": [
       "<Figure size 800x600 with 1 Axes>"
      ]
     },
     "metadata": {},
     "output_type": "display_data"
    }
   ],
   "source": [
    "import matplotlib.pyplot\n",
    "\n",
    "def main():\n",
    "    # Read expense data from the file\n",
    "    expenses = {}\n",
    "    with open('expenses.txt', 'r') as file:\n",
    "        for line in file:\n",
    "            category, amount = line.strip().split()\n",
    "            expenses[category] = float(amount)\n",
    "\n",
    "    # Extract categories and corresponding amounts\n",
    "    categories = list(expenses.keys())\n",
    "    amounts = list(expenses.values())\n",
    "\n",
    "    # Create a pie chart\n",
    "    plt.figure(figsize=(8, 6))\n",
    "    plt.pie(amounts, labels=categories, autopct='%1.1f%%', startangle=140)\n",
    "    plt.axis('equal')  # Equal aspect ratio ensures that pie is drawn as a circle.\n",
    "    plt.title('Expense Distribution for Last Month')\n",
    "\n",
    "    # Show the pie chart\n",
    "    plt.show()\n",
    "\n",
    "if __name__ == \"__main__\":\n",
    "    main()\n"
   ]
  },
  {
   "cell_type": "markdown",
   "id": "ac5284e5",
   "metadata": {},
   "source": [
    "I created the main function to read expense data from a text file, parse it, and use matplotlib to create a pie chart representing the distribution of expenses across categories. Inside the function, I opened and read the expenses.txt file, extracted category-amount pairs, and then used matplotlib to visualize the data in a pie chart. For some reason when it was ran it wont she me the pie chart. Im not sure how to fix it."
   ]
  },
  {
   "cell_type": "markdown",
   "id": "ab06235a",
   "metadata": {},
   "source": [
    "##Question 2"
   ]
  },
  {
   "cell_type": "code",
   "execution_count": 13,
   "id": "631fdf7c",
   "metadata": {},
   "outputs": [
    {
     "name": "stdout",
     "output_type": "stream",
     "text": [
      "Seven-digit Lottery Number:\n",
      "0 7 4 1 7 6 0 \n"
     ]
    }
   ],
   "source": [
    "import random\n",
    "\n",
    "def generate_lottery_number():\n",
    "    lottery_number = []\n",
    "    for _ in range(7):\n",
    "        digit = random.randint(0, 9)\n",
    "        lottery_number.append(digit)\n",
    "    return lottery_number\n",
    "\n",
    "def main():\n",
    "    lottery_number = generate_lottery_number()\n",
    "    print(\"Seven-digit Lottery Number:\")\n",
    "    for digit in lottery_number:\n",
    "        print(digit, end=\" \")\n",
    "    print()\n",
    "\n",
    "if __name__ == \"__main__\":\n",
    "    main()\n"
   ]
  },
  {
   "cell_type": "code",
   "execution_count": 14,
   "id": "b58fffbe",
   "metadata": {},
   "outputs": [
    {
     "name": "stdout",
     "output_type": "stream",
     "text": [
      "Seven-digit Lottery Number:\n",
      "4 2 0 2 3 6 2 \n"
     ]
    }
   ],
   "source": [
    "import random\n",
    "\n",
    "def generate_lottery_number():\n",
    "    lottery_number = []\n",
    "    for _ in range(7):\n",
    "        digit = random.randint(0, 9)\n",
    "        lottery_number.append(digit)\n",
    "    return lottery_number\n",
    "\n",
    "def main():\n",
    "    lottery_number = generate_lottery_number()\n",
    "    print(\"Seven-digit Lottery Number:\")\n",
    "    for digit in lottery_number:\n",
    "        print(digit, end=\" \")\n",
    "    print()\n",
    "\n",
    "if __name__ == \"__main__\":\n",
    "    main()\n"
   ]
  },
  {
   "cell_type": "code",
   "execution_count": 15,
   "id": "4b37b6ef",
   "metadata": {},
   "outputs": [
    {
     "name": "stdout",
     "output_type": "stream",
     "text": [
      "Seven-digit Lottery Number:\n",
      "8 4 3 5 1 8 4 \n"
     ]
    }
   ],
   "source": [
    "import random\n",
    "\n",
    "def generate_lottery_number():\n",
    "    lottery_number = []\n",
    "    for _ in range(7):\n",
    "        digit = random.randint(0, 9)\n",
    "        lottery_number.append(digit)\n",
    "    return lottery_number\n",
    "\n",
    "def main():\n",
    "    lottery_number = generate_lottery_number()\n",
    "    print(\"Seven-digit Lottery Number:\")\n",
    "    for digit in lottery_number:\n",
    "        print(digit, end=\" \")\n",
    "    print()\n",
    "\n",
    "if __name__ == \"__main__\":\n",
    "    main()\n"
   ]
  },
  {
   "cell_type": "markdown",
   "id": "5b015094",
   "metadata": {},
   "source": [
    "I created a Python program with a main function that generates a random seven-digit lottery number. The generate_lottery_number function is responsible for generating the number by using a loop to pick seven random digits between 0 and 9 and storing them in a list. The main function then displays this generated lottery number by iterating through the list and printing each digit. The program structure ensures readability and reusability by separating the number generation and display logic. I ran it a couple times just to show that it gives new numbers each time."
   ]
  },
  {
   "cell_type": "markdown",
   "id": "2c5de6a3",
   "metadata": {},
   "source": [
    "##Question 3"
   ]
  },
  {
   "cell_type": "code",
   "execution_count": 16,
   "id": "c8557b70",
   "metadata": {},
   "outputs": [
    {
     "name": "stdout",
     "output_type": "stream",
     "text": [
      "Enter rainfall for month 1: 12\n",
      "Enter rainfall for month 2: 4\n",
      "Enter rainfall for month 3: 7\n",
      "Enter rainfall for month 4: 18\n",
      "Enter rainfall for month 5: 42\n",
      "Enter rainfall for month 6: 6\n",
      "Enter rainfall for month 7: 12\n",
      "Enter rainfall for month 8: 04\n",
      "Enter rainfall for month 9: 17\n",
      "Enter rainfall for month 10: 22\n",
      "Enter rainfall for month 11: 53\n",
      "Enter rainfall for month 12: 32\n",
      "Total rainfall for the year: 229.0 inches\n",
      "Average monthly rainfall: 19.083333333333332 inches\n",
      "Month with the highest rainfall: Month 11 (53.0 inches)\n",
      "Month with the lowest rainfall: Month 2 (4.0 inches)\n"
     ]
    }
   ],
   "source": [
    "def main():\n",
    "    # list to store monthly rainfall\n",
    "    monthly_rainfall = []\n",
    "\n",
    "    # enter monthly rainfall data\n",
    "    for month in range(1, 13):\n",
    "        rainfall = float(input(f\"Enter rainfall for month {month}: \"))\n",
    "        monthly_rainfall.append(rainfall)\n",
    "\n",
    "    # total and average rainfall\n",
    "    total_rainfall = sum(monthly_rainfall)\n",
    "    average_rainfall = total_rainfall / len(monthly_rainfall)\n",
    "\n",
    "    # Find the month with the highest and lowest rainfall\n",
    "    max_rainfall = max(monthly_rainfall)\n",
    "    min_rainfall = min(monthly_rainfall)\n",
    "    max_month = monthly_rainfall.index(max_rainfall) + 1\n",
    "    min_month = monthly_rainfall.index(min_rainfall) + 1\n",
    "\n",
    "    # results\n",
    "    print(f\"Total rainfall for the year: {total_rainfall} inches\")\n",
    "    print(f\"Average monthly rainfall: {average_rainfall} inches\")\n",
    "    print(f\"Month with the highest rainfall: Month {max_month} ({max_rainfall} inches)\")\n",
    "    print(f\"Month with the lowest rainfall: Month {min_month} ({min_rainfall} inches)\")\n",
    "\n",
    "if __name__ == \"__main__\":\n",
    "    main()\n"
   ]
  },
  {
   "cell_type": "markdown",
   "id": "f2072791",
   "metadata": {},
   "source": [
    "I designed a Python program using the main function that allows input in monthly rainfall data for 12 months. Inside the main function, I used a loop to collect the data, calculated the total rainfall for the year and the average monthly rainfall, and identified the months with the highest and lowest rainfall. The program then displayed these statistics. This structure separates data collection, calculation, and presentation for clarity and organization."
   ]
  },
  {
   "cell_type": "code",
   "execution_count": null,
   "id": "9154e6fd",
   "metadata": {},
   "outputs": [],
   "source": []
  }
 ],
 "metadata": {
  "kernelspec": {
   "display_name": "Python 3 (ipykernel)",
   "language": "python",
   "name": "python3"
  },
  "language_info": {
   "codemirror_mode": {
    "name": "ipython",
    "version": 3
   },
   "file_extension": ".py",
   "mimetype": "text/x-python",
   "name": "python",
   "nbconvert_exporter": "python",
   "pygments_lexer": "ipython3",
   "version": "3.11.4"
  }
 },
 "nbformat": 4,
 "nbformat_minor": 5
}
